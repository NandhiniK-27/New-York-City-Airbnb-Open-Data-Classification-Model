{
 "cells": [
  {
   "cell_type": "markdown",
   "id": "6c6bb025",
   "metadata": {},
   "source": [
    "# New York City Airbnb Open Data Classification Model"
   ]
  },
  {
   "cell_type": "markdown",
   "id": "73dbc04e",
   "metadata": {},
   "source": [
    "**Importing Libraries**"
   ]
  },
  {
   "cell_type": "code",
   "execution_count": 1,
   "id": "e64d64a6",
   "metadata": {},
   "outputs": [],
   "source": [
    "import pandas as pd\n",
    "import numpy as np\n",
    "import seaborn as sns\n",
    "import matplotlib.pyplot as plt\n",
    "import warnings\n",
    "warnings.simplefilter(\"ignore\")"
   ]
  },
  {
   "cell_type": "markdown",
   "id": "ce127bff",
   "metadata": {},
   "source": [
    "**Loading the dataset**"
   ]
  },
  {
   "cell_type": "code",
   "execution_count": 2,
   "id": "ca3c0417",
   "metadata": {},
   "outputs": [
    {
     "data": {
      "text/html": [
       "<div>\n",
       "<style scoped>\n",
       "    .dataframe tbody tr th:only-of-type {\n",
       "        vertical-align: middle;\n",
       "    }\n",
       "\n",
       "    .dataframe tbody tr th {\n",
       "        vertical-align: top;\n",
       "    }\n",
       "\n",
       "    .dataframe thead th {\n",
       "        text-align: right;\n",
       "    }\n",
       "</style>\n",
       "<table border=\"1\" class=\"dataframe\">\n",
       "  <thead>\n",
       "    <tr style=\"text-align: right;\">\n",
       "      <th></th>\n",
       "      <th>id</th>\n",
       "      <th>name</th>\n",
       "      <th>host_id</th>\n",
       "      <th>host_name</th>\n",
       "      <th>neighbourhood_group</th>\n",
       "      <th>neighbourhood</th>\n",
       "      <th>latitude</th>\n",
       "      <th>longitude</th>\n",
       "      <th>room_type</th>\n",
       "      <th>price</th>\n",
       "      <th>minimum_nights</th>\n",
       "      <th>number_of_reviews</th>\n",
       "      <th>last_review</th>\n",
       "      <th>reviews_per_month</th>\n",
       "      <th>calculated_host_listings_count</th>\n",
       "      <th>availability_365</th>\n",
       "    </tr>\n",
       "  </thead>\n",
       "  <tbody>\n",
       "    <tr>\n",
       "      <th>0</th>\n",
       "      <td>2539</td>\n",
       "      <td>Clean &amp; quiet apt home by the park</td>\n",
       "      <td>2787</td>\n",
       "      <td>John</td>\n",
       "      <td>Brooklyn</td>\n",
       "      <td>Kensington</td>\n",
       "      <td>40.64749</td>\n",
       "      <td>-73.97237</td>\n",
       "      <td>Private room</td>\n",
       "      <td>149</td>\n",
       "      <td>1</td>\n",
       "      <td>9</td>\n",
       "      <td>2018-10-19</td>\n",
       "      <td>0.21</td>\n",
       "      <td>6</td>\n",
       "      <td>365</td>\n",
       "    </tr>\n",
       "    <tr>\n",
       "      <th>1</th>\n",
       "      <td>2595</td>\n",
       "      <td>Skylit Midtown Castle</td>\n",
       "      <td>2845</td>\n",
       "      <td>Jennifer</td>\n",
       "      <td>Manhattan</td>\n",
       "      <td>Midtown</td>\n",
       "      <td>40.75362</td>\n",
       "      <td>-73.98377</td>\n",
       "      <td>Entire home/apt</td>\n",
       "      <td>225</td>\n",
       "      <td>1</td>\n",
       "      <td>45</td>\n",
       "      <td>2019-05-21</td>\n",
       "      <td>0.38</td>\n",
       "      <td>2</td>\n",
       "      <td>355</td>\n",
       "    </tr>\n",
       "    <tr>\n",
       "      <th>2</th>\n",
       "      <td>3647</td>\n",
       "      <td>THE VILLAGE OF HARLEM....NEW YORK !</td>\n",
       "      <td>4632</td>\n",
       "      <td>Elisabeth</td>\n",
       "      <td>Manhattan</td>\n",
       "      <td>Harlem</td>\n",
       "      <td>40.80902</td>\n",
       "      <td>-73.94190</td>\n",
       "      <td>Private room</td>\n",
       "      <td>150</td>\n",
       "      <td>3</td>\n",
       "      <td>0</td>\n",
       "      <td>NaN</td>\n",
       "      <td>NaN</td>\n",
       "      <td>1</td>\n",
       "      <td>365</td>\n",
       "    </tr>\n",
       "    <tr>\n",
       "      <th>3</th>\n",
       "      <td>3831</td>\n",
       "      <td>Cozy Entire Floor of Brownstone</td>\n",
       "      <td>4869</td>\n",
       "      <td>LisaRoxanne</td>\n",
       "      <td>Brooklyn</td>\n",
       "      <td>Clinton Hill</td>\n",
       "      <td>40.68514</td>\n",
       "      <td>-73.95976</td>\n",
       "      <td>Entire home/apt</td>\n",
       "      <td>89</td>\n",
       "      <td>1</td>\n",
       "      <td>270</td>\n",
       "      <td>2019-07-05</td>\n",
       "      <td>4.64</td>\n",
       "      <td>1</td>\n",
       "      <td>194</td>\n",
       "    </tr>\n",
       "    <tr>\n",
       "      <th>4</th>\n",
       "      <td>5022</td>\n",
       "      <td>Entire Apt: Spacious Studio/Loft by central park</td>\n",
       "      <td>7192</td>\n",
       "      <td>Laura</td>\n",
       "      <td>Manhattan</td>\n",
       "      <td>East Harlem</td>\n",
       "      <td>40.79851</td>\n",
       "      <td>-73.94399</td>\n",
       "      <td>Entire home/apt</td>\n",
       "      <td>80</td>\n",
       "      <td>10</td>\n",
       "      <td>9</td>\n",
       "      <td>2018-11-19</td>\n",
       "      <td>0.10</td>\n",
       "      <td>1</td>\n",
       "      <td>0</td>\n",
       "    </tr>\n",
       "  </tbody>\n",
       "</table>\n",
       "</div>"
      ],
      "text/plain": [
       "     id                                              name  host_id  \\\n",
       "0  2539                Clean & quiet apt home by the park     2787   \n",
       "1  2595                             Skylit Midtown Castle     2845   \n",
       "2  3647               THE VILLAGE OF HARLEM....NEW YORK !     4632   \n",
       "3  3831                   Cozy Entire Floor of Brownstone     4869   \n",
       "4  5022  Entire Apt: Spacious Studio/Loft by central park     7192   \n",
       "\n",
       "     host_name neighbourhood_group neighbourhood  latitude  longitude  \\\n",
       "0         John            Brooklyn    Kensington  40.64749  -73.97237   \n",
       "1     Jennifer           Manhattan       Midtown  40.75362  -73.98377   \n",
       "2    Elisabeth           Manhattan        Harlem  40.80902  -73.94190   \n",
       "3  LisaRoxanne            Brooklyn  Clinton Hill  40.68514  -73.95976   \n",
       "4        Laura           Manhattan   East Harlem  40.79851  -73.94399   \n",
       "\n",
       "         room_type  price  minimum_nights  number_of_reviews last_review  \\\n",
       "0     Private room    149               1                  9  2018-10-19   \n",
       "1  Entire home/apt    225               1                 45  2019-05-21   \n",
       "2     Private room    150               3                  0         NaN   \n",
       "3  Entire home/apt     89               1                270  2019-07-05   \n",
       "4  Entire home/apt     80              10                  9  2018-11-19   \n",
       "\n",
       "   reviews_per_month  calculated_host_listings_count  availability_365  \n",
       "0               0.21                               6               365  \n",
       "1               0.38                               2               355  \n",
       "2                NaN                               1               365  \n",
       "3               4.64                               1               194  \n",
       "4               0.10                               1                 0  "
      ]
     },
     "execution_count": 2,
     "metadata": {},
     "output_type": "execute_result"
    }
   ],
   "source": [
    "df=pd.read_csv('C:/Users/nanth/OneDrive/Desktop/NewYorkCityOpenSource.csv')\n",
    "df.head()"
   ]
  },
  {
   "cell_type": "markdown",
   "id": "41b51d33",
   "metadata": {},
   "source": [
    "**Exploratory Data Analysis**"
   ]
  },
  {
   "cell_type": "code",
   "execution_count": 3,
   "id": "0d29c618",
   "metadata": {},
   "outputs": [
    {
     "data": {
      "text/html": [
       "<div>\n",
       "<style scoped>\n",
       "    .dataframe tbody tr th:only-of-type {\n",
       "        vertical-align: middle;\n",
       "    }\n",
       "\n",
       "    .dataframe tbody tr th {\n",
       "        vertical-align: top;\n",
       "    }\n",
       "\n",
       "    .dataframe thead th {\n",
       "        text-align: right;\n",
       "    }\n",
       "</style>\n",
       "<table border=\"1\" class=\"dataframe\">\n",
       "  <thead>\n",
       "    <tr style=\"text-align: right;\">\n",
       "      <th></th>\n",
       "      <th>id</th>\n",
       "      <th>host_id</th>\n",
       "      <th>latitude</th>\n",
       "      <th>longitude</th>\n",
       "      <th>price</th>\n",
       "      <th>minimum_nights</th>\n",
       "      <th>number_of_reviews</th>\n",
       "      <th>reviews_per_month</th>\n",
       "      <th>calculated_host_listings_count</th>\n",
       "      <th>availability_365</th>\n",
       "    </tr>\n",
       "  </thead>\n",
       "  <tbody>\n",
       "    <tr>\n",
       "      <th>count</th>\n",
       "      <td>4.889500e+04</td>\n",
       "      <td>4.889500e+04</td>\n",
       "      <td>48895.000000</td>\n",
       "      <td>48895.000000</td>\n",
       "      <td>48895.000000</td>\n",
       "      <td>48895.000000</td>\n",
       "      <td>48895.000000</td>\n",
       "      <td>38843.000000</td>\n",
       "      <td>48895.000000</td>\n",
       "      <td>48895.000000</td>\n",
       "    </tr>\n",
       "    <tr>\n",
       "      <th>mean</th>\n",
       "      <td>1.901714e+07</td>\n",
       "      <td>6.762001e+07</td>\n",
       "      <td>40.728949</td>\n",
       "      <td>-73.952170</td>\n",
       "      <td>152.720687</td>\n",
       "      <td>7.029962</td>\n",
       "      <td>23.274466</td>\n",
       "      <td>1.373221</td>\n",
       "      <td>7.143982</td>\n",
       "      <td>112.781327</td>\n",
       "    </tr>\n",
       "    <tr>\n",
       "      <th>std</th>\n",
       "      <td>1.098311e+07</td>\n",
       "      <td>7.861097e+07</td>\n",
       "      <td>0.054530</td>\n",
       "      <td>0.046157</td>\n",
       "      <td>240.154170</td>\n",
       "      <td>20.510550</td>\n",
       "      <td>44.550582</td>\n",
       "      <td>1.680442</td>\n",
       "      <td>32.952519</td>\n",
       "      <td>131.622289</td>\n",
       "    </tr>\n",
       "    <tr>\n",
       "      <th>min</th>\n",
       "      <td>2.539000e+03</td>\n",
       "      <td>2.438000e+03</td>\n",
       "      <td>40.499790</td>\n",
       "      <td>-74.244420</td>\n",
       "      <td>0.000000</td>\n",
       "      <td>1.000000</td>\n",
       "      <td>0.000000</td>\n",
       "      <td>0.010000</td>\n",
       "      <td>1.000000</td>\n",
       "      <td>0.000000</td>\n",
       "    </tr>\n",
       "    <tr>\n",
       "      <th>25%</th>\n",
       "      <td>9.471945e+06</td>\n",
       "      <td>7.822033e+06</td>\n",
       "      <td>40.690100</td>\n",
       "      <td>-73.983070</td>\n",
       "      <td>69.000000</td>\n",
       "      <td>1.000000</td>\n",
       "      <td>1.000000</td>\n",
       "      <td>0.190000</td>\n",
       "      <td>1.000000</td>\n",
       "      <td>0.000000</td>\n",
       "    </tr>\n",
       "    <tr>\n",
       "      <th>50%</th>\n",
       "      <td>1.967728e+07</td>\n",
       "      <td>3.079382e+07</td>\n",
       "      <td>40.723070</td>\n",
       "      <td>-73.955680</td>\n",
       "      <td>106.000000</td>\n",
       "      <td>3.000000</td>\n",
       "      <td>5.000000</td>\n",
       "      <td>0.720000</td>\n",
       "      <td>1.000000</td>\n",
       "      <td>45.000000</td>\n",
       "    </tr>\n",
       "    <tr>\n",
       "      <th>75%</th>\n",
       "      <td>2.915218e+07</td>\n",
       "      <td>1.074344e+08</td>\n",
       "      <td>40.763115</td>\n",
       "      <td>-73.936275</td>\n",
       "      <td>175.000000</td>\n",
       "      <td>5.000000</td>\n",
       "      <td>24.000000</td>\n",
       "      <td>2.020000</td>\n",
       "      <td>2.000000</td>\n",
       "      <td>227.000000</td>\n",
       "    </tr>\n",
       "    <tr>\n",
       "      <th>max</th>\n",
       "      <td>3.648724e+07</td>\n",
       "      <td>2.743213e+08</td>\n",
       "      <td>40.913060</td>\n",
       "      <td>-73.712990</td>\n",
       "      <td>10000.000000</td>\n",
       "      <td>1250.000000</td>\n",
       "      <td>629.000000</td>\n",
       "      <td>58.500000</td>\n",
       "      <td>327.000000</td>\n",
       "      <td>365.000000</td>\n",
       "    </tr>\n",
       "  </tbody>\n",
       "</table>\n",
       "</div>"
      ],
      "text/plain": [
       "                 id       host_id      latitude     longitude         price  \\\n",
       "count  4.889500e+04  4.889500e+04  48895.000000  48895.000000  48895.000000   \n",
       "mean   1.901714e+07  6.762001e+07     40.728949    -73.952170    152.720687   \n",
       "std    1.098311e+07  7.861097e+07      0.054530      0.046157    240.154170   \n",
       "min    2.539000e+03  2.438000e+03     40.499790    -74.244420      0.000000   \n",
       "25%    9.471945e+06  7.822033e+06     40.690100    -73.983070     69.000000   \n",
       "50%    1.967728e+07  3.079382e+07     40.723070    -73.955680    106.000000   \n",
       "75%    2.915218e+07  1.074344e+08     40.763115    -73.936275    175.000000   \n",
       "max    3.648724e+07  2.743213e+08     40.913060    -73.712990  10000.000000   \n",
       "\n",
       "       minimum_nights  number_of_reviews  reviews_per_month  \\\n",
       "count    48895.000000       48895.000000       38843.000000   \n",
       "mean         7.029962          23.274466           1.373221   \n",
       "std         20.510550          44.550582           1.680442   \n",
       "min          1.000000           0.000000           0.010000   \n",
       "25%          1.000000           1.000000           0.190000   \n",
       "50%          3.000000           5.000000           0.720000   \n",
       "75%          5.000000          24.000000           2.020000   \n",
       "max       1250.000000         629.000000          58.500000   \n",
       "\n",
       "       calculated_host_listings_count  availability_365  \n",
       "count                    48895.000000      48895.000000  \n",
       "mean                         7.143982        112.781327  \n",
       "std                         32.952519        131.622289  \n",
       "min                          1.000000          0.000000  \n",
       "25%                          1.000000          0.000000  \n",
       "50%                          1.000000         45.000000  \n",
       "75%                          2.000000        227.000000  \n",
       "max                        327.000000        365.000000  "
      ]
     },
     "execution_count": 3,
     "metadata": {},
     "output_type": "execute_result"
    }
   ],
   "source": [
    "#describing the dataset\n",
    "df.describe()"
   ]
  },
  {
   "cell_type": "code",
   "execution_count": 4,
   "id": "e907e49d",
   "metadata": {},
   "outputs": [
    {
     "name": "stdout",
     "output_type": "stream",
     "text": [
      "<class 'pandas.core.frame.DataFrame'>\n",
      "RangeIndex: 48895 entries, 0 to 48894\n",
      "Data columns (total 16 columns):\n",
      " #   Column                          Non-Null Count  Dtype  \n",
      "---  ------                          --------------  -----  \n",
      " 0   id                              48895 non-null  int64  \n",
      " 1   name                            48879 non-null  object \n",
      " 2   host_id                         48895 non-null  int64  \n",
      " 3   host_name                       48874 non-null  object \n",
      " 4   neighbourhood_group             48895 non-null  object \n",
      " 5   neighbourhood                   48895 non-null  object \n",
      " 6   latitude                        48895 non-null  float64\n",
      " 7   longitude                       48895 non-null  float64\n",
      " 8   room_type                       48895 non-null  object \n",
      " 9   price                           48895 non-null  int64  \n",
      " 10  minimum_nights                  48895 non-null  int64  \n",
      " 11  number_of_reviews               48895 non-null  int64  \n",
      " 12  last_review                     38843 non-null  object \n",
      " 13  reviews_per_month               38843 non-null  float64\n",
      " 14  calculated_host_listings_count  48895 non-null  int64  \n",
      " 15  availability_365                48895 non-null  int64  \n",
      "dtypes: float64(3), int64(7), object(6)\n",
      "memory usage: 6.0+ MB\n"
     ]
    }
   ],
   "source": [
    "#information of the dataset\n",
    "df.info()"
   ]
  },
  {
   "cell_type": "code",
   "execution_count": 5,
   "id": "105c6b81",
   "metadata": {
    "scrolled": true
   },
   "outputs": [
    {
     "data": {
      "text/plain": [
       "id                                 0.000000\n",
       "name                               0.032723\n",
       "host_id                            0.000000\n",
       "host_name                          0.042949\n",
       "neighbourhood_group                0.000000\n",
       "neighbourhood                      0.000000\n",
       "latitude                           0.000000\n",
       "longitude                          0.000000\n",
       "room_type                          0.000000\n",
       "price                              0.000000\n",
       "minimum_nights                     0.000000\n",
       "number_of_reviews                  0.000000\n",
       "last_review                       20.558339\n",
       "reviews_per_month                 20.558339\n",
       "calculated_host_listings_count     0.000000\n",
       "availability_365                   0.000000\n",
       "dtype: float64"
      ]
     },
     "execution_count": 5,
     "metadata": {},
     "output_type": "execute_result"
    }
   ],
   "source": [
    "#checking the null values percentage\n",
    "df.isnull().sum()/len(df)*100\n"
   ]
  },
  {
   "cell_type": "code",
   "execution_count": 6,
   "id": "2bf864a7",
   "metadata": {},
   "outputs": [],
   "source": [
    "#removing the null values\n",
    "df = df.fillna(df['last_review'].mode())\n",
    "df = df.fillna(df['name'].mode())\n",
    "df = df.fillna(df['host_id'].mode())\n",
    "df = df.fillna(df['reviews_per_month'].mean())"
   ]
  },
  {
   "cell_type": "code",
   "execution_count": 7,
   "id": "2b536887",
   "metadata": {},
   "outputs": [
    {
     "data": {
      "text/plain": [
       "id                                0.0\n",
       "name                              0.0\n",
       "host_id                           0.0\n",
       "host_name                         0.0\n",
       "neighbourhood_group               0.0\n",
       "neighbourhood                     0.0\n",
       "latitude                          0.0\n",
       "longitude                         0.0\n",
       "room_type                         0.0\n",
       "price                             0.0\n",
       "minimum_nights                    0.0\n",
       "number_of_reviews                 0.0\n",
       "last_review                       0.0\n",
       "reviews_per_month                 0.0\n",
       "calculated_host_listings_count    0.0\n",
       "availability_365                  0.0\n",
       "dtype: float64"
      ]
     },
     "execution_count": 7,
     "metadata": {},
     "output_type": "execute_result"
    }
   ],
   "source": [
    "df.isnull().sum()/len(df)*100"
   ]
  },
  {
   "cell_type": "code",
   "execution_count": 8,
   "id": "deef0114",
   "metadata": {
    "scrolled": true
   },
   "outputs": [
    {
     "data": {
      "text/plain": [
       "Index(['id', 'name', 'host_id', 'host_name', 'neighbourhood_group',\n",
       "       'neighbourhood', 'latitude', 'longitude', 'room_type', 'price',\n",
       "       'minimum_nights', 'number_of_reviews', 'last_review',\n",
       "       'reviews_per_month', 'calculated_host_listings_count',\n",
       "       'availability_365'],\n",
       "      dtype='object')"
      ]
     },
     "execution_count": 8,
     "metadata": {},
     "output_type": "execute_result"
    }
   ],
   "source": [
    "#checking the column name\n",
    "df.columns"
   ]
  },
  {
   "cell_type": "code",
   "execution_count": 9,
   "id": "fb1254ae",
   "metadata": {
    "scrolled": true
   },
   "outputs": [
    {
     "name": "stdout",
     "output_type": "stream",
     "text": [
      "The numerical columns are ['id', 'host_id', 'latitude', 'longitude', 'price', 'minimum_nights', 'number_of_reviews', 'reviews_per_month', 'calculated_host_listings_count', 'availability_365']\n",
      "The catagorical columns are ['name', 'host_name', 'neighbourhood_group', 'neighbourhood', 'room_type', 'last_review']\n"
     ]
    }
   ],
   "source": [
    "#check the numerical column and categorical column \n",
    "cat = []\n",
    "num = []\n",
    "for i in df.columns:\n",
    "    if df[i].dtypes=='O':\n",
    "            cat.append(i)\n",
    "    else:\n",
    "        num.append(i)\n",
    "print('The numerical columns are',num)\n",
    "print('The catagorical columns are',cat)"
   ]
  },
  {
   "cell_type": "code",
   "execution_count": 10,
   "id": "06fb4e70",
   "metadata": {},
   "outputs": [],
   "source": [
    "#drop the column\n",
    "df.drop(['name', 'host_name', 'last_review'], axis=1, inplace=True)"
   ]
  },
  {
   "cell_type": "code",
   "execution_count": 11,
   "id": "6e70d6b2",
   "metadata": {},
   "outputs": [],
   "source": [
    "#let's proceed with examing some interesting categorical unique values"
   ]
  },
  {
   "cell_type": "code",
   "execution_count": 12,
   "id": "d1b23386",
   "metadata": {},
   "outputs": [
    {
     "data": {
      "text/plain": [
       "array(['Brooklyn', 'Manhattan', 'Queens', 'Staten Island', 'Bronx'],\n",
       "      dtype=object)"
      ]
     },
     "execution_count": 12,
     "metadata": {},
     "output_type": "execute_result"
    }
   ],
   "source": [
    "df.neighbourhood_group.unique()"
   ]
  },
  {
   "cell_type": "code",
   "execution_count": 13,
   "id": "824d2796",
   "metadata": {},
   "outputs": [
    {
     "data": {
      "text/plain": [
       "221"
      ]
     },
     "execution_count": 13,
     "metadata": {},
     "output_type": "execute_result"
    }
   ],
   "source": [
    "len(df.neighbourhood.unique())"
   ]
  },
  {
   "cell_type": "code",
   "execution_count": 14,
   "id": "7ce2ea11",
   "metadata": {},
   "outputs": [
    {
     "data": {
      "text/plain": [
       "array(['Private room', 'Entire home/apt', 'Shared room'], dtype=object)"
      ]
     },
     "execution_count": 14,
     "metadata": {},
     "output_type": "execute_result"
    }
   ],
   "source": [
    "df.room_type.unique()"
   ]
  },
  {
   "cell_type": "code",
   "execution_count": 15,
   "id": "6b8cd458",
   "metadata": {},
   "outputs": [
    {
     "data": {
      "text/html": [
       "<div>\n",
       "<style scoped>\n",
       "    .dataframe tbody tr th:only-of-type {\n",
       "        vertical-align: middle;\n",
       "    }\n",
       "\n",
       "    .dataframe tbody tr th {\n",
       "        vertical-align: top;\n",
       "    }\n",
       "\n",
       "    .dataframe thead th {\n",
       "        text-align: right;\n",
       "    }\n",
       "</style>\n",
       "<table border=\"1\" class=\"dataframe\">\n",
       "  <thead>\n",
       "    <tr style=\"text-align: right;\">\n",
       "      <th></th>\n",
       "      <th></th>\n",
       "      <th>id</th>\n",
       "      <th>host_id</th>\n",
       "      <th>latitude</th>\n",
       "      <th>longitude</th>\n",
       "      <th>price</th>\n",
       "      <th>minimum_nights</th>\n",
       "      <th>number_of_reviews</th>\n",
       "      <th>reviews_per_month</th>\n",
       "      <th>calculated_host_listings_count</th>\n",
       "      <th>availability_365</th>\n",
       "    </tr>\n",
       "    <tr>\n",
       "      <th>room_type</th>\n",
       "      <th>neighbourhood_group</th>\n",
       "      <th></th>\n",
       "      <th></th>\n",
       "      <th></th>\n",
       "      <th></th>\n",
       "      <th></th>\n",
       "      <th></th>\n",
       "      <th></th>\n",
       "      <th></th>\n",
       "      <th></th>\n",
       "      <th></th>\n",
       "    </tr>\n",
       "  </thead>\n",
       "  <tbody>\n",
       "    <tr>\n",
       "      <th rowspan=\"5\" valign=\"top\">Entire home/apt</th>\n",
       "      <th>Bronx</th>\n",
       "      <td>36442252</td>\n",
       "      <td>273841667</td>\n",
       "      <td>40.90527</td>\n",
       "      <td>-73.78414</td>\n",
       "      <td>1000</td>\n",
       "      <td>186</td>\n",
       "      <td>271</td>\n",
       "      <td>10.34</td>\n",
       "      <td>13</td>\n",
       "      <td>365</td>\n",
       "    </tr>\n",
       "    <tr>\n",
       "      <th>Brooklyn</th>\n",
       "      <td>36483152</td>\n",
       "      <td>273849259</td>\n",
       "      <td>40.73890</td>\n",
       "      <td>-73.85676</td>\n",
       "      <td>10000</td>\n",
       "      <td>500</td>\n",
       "      <td>488</td>\n",
       "      <td>13.33</td>\n",
       "      <td>232</td>\n",
       "      <td>365</td>\n",
       "    </tr>\n",
       "    <tr>\n",
       "      <th>Manhattan</th>\n",
       "      <td>36485431</td>\n",
       "      <td>274311461</td>\n",
       "      <td>40.87665</td>\n",
       "      <td>-73.90855</td>\n",
       "      <td>10000</td>\n",
       "      <td>1250</td>\n",
       "      <td>447</td>\n",
       "      <td>14.00</td>\n",
       "      <td>327</td>\n",
       "      <td>365</td>\n",
       "    </tr>\n",
       "    <tr>\n",
       "      <th>Queens</th>\n",
       "      <td>36472710</td>\n",
       "      <td>274225617</td>\n",
       "      <td>40.79721</td>\n",
       "      <td>-73.71690</td>\n",
       "      <td>2600</td>\n",
       "      <td>500</td>\n",
       "      <td>441</td>\n",
       "      <td>15.78</td>\n",
       "      <td>15</td>\n",
       "      <td>365</td>\n",
       "    </tr>\n",
       "    <tr>\n",
       "      <th>Staten Island</th>\n",
       "      <td>36310353</td>\n",
       "      <td>271528362</td>\n",
       "      <td>40.64779</td>\n",
       "      <td>-74.06092</td>\n",
       "      <td>5000</td>\n",
       "      <td>365</td>\n",
       "      <td>242</td>\n",
       "      <td>9.10</td>\n",
       "      <td>7</td>\n",
       "      <td>365</td>\n",
       "    </tr>\n",
       "    <tr>\n",
       "      <th rowspan=\"5\" valign=\"top\">Private room</th>\n",
       "      <th>Bronx</th>\n",
       "      <td>36435986</td>\n",
       "      <td>273877318</td>\n",
       "      <td>40.91306</td>\n",
       "      <td>-73.78158</td>\n",
       "      <td>2500</td>\n",
       "      <td>365</td>\n",
       "      <td>321</td>\n",
       "      <td>8.37</td>\n",
       "      <td>37</td>\n",
       "      <td>365</td>\n",
       "    </tr>\n",
       "    <tr>\n",
       "      <th>Brooklyn</th>\n",
       "      <td>36485057</td>\n",
       "      <td>274307600</td>\n",
       "      <td>40.73861</td>\n",
       "      <td>-73.85899</td>\n",
       "      <td>7500</td>\n",
       "      <td>999</td>\n",
       "      <td>480</td>\n",
       "      <td>14.00</td>\n",
       "      <td>103</td>\n",
       "      <td>365</td>\n",
       "    </tr>\n",
       "    <tr>\n",
       "      <th>Manhattan</th>\n",
       "      <td>36487245</td>\n",
       "      <td>274321313</td>\n",
       "      <td>40.87663</td>\n",
       "      <td>-73.90982</td>\n",
       "      <td>9999</td>\n",
       "      <td>365</td>\n",
       "      <td>607</td>\n",
       "      <td>58.50</td>\n",
       "      <td>327</td>\n",
       "      <td>365</td>\n",
       "    </tr>\n",
       "    <tr>\n",
       "      <th>Queens</th>\n",
       "      <td>36484363</td>\n",
       "      <td>274040642</td>\n",
       "      <td>40.79511</td>\n",
       "      <td>-73.71299</td>\n",
       "      <td>10000</td>\n",
       "      <td>365</td>\n",
       "      <td>629</td>\n",
       "      <td>20.94</td>\n",
       "      <td>103</td>\n",
       "      <td>365</td>\n",
       "    </tr>\n",
       "    <tr>\n",
       "      <th>Staten Island</th>\n",
       "      <td>36438336</td>\n",
       "      <td>272557707</td>\n",
       "      <td>40.64579</td>\n",
       "      <td>-74.06208</td>\n",
       "      <td>300</td>\n",
       "      <td>33</td>\n",
       "      <td>333</td>\n",
       "      <td>10.12</td>\n",
       "      <td>8</td>\n",
       "      <td>365</td>\n",
       "    </tr>\n",
       "    <tr>\n",
       "      <th rowspan=\"5\" valign=\"top\">Shared room</th>\n",
       "      <th>Bronx</th>\n",
       "      <td>36379669</td>\n",
       "      <td>272247972</td>\n",
       "      <td>40.89785</td>\n",
       "      <td>-73.82949</td>\n",
       "      <td>800</td>\n",
       "      <td>90</td>\n",
       "      <td>116</td>\n",
       "      <td>6.82</td>\n",
       "      <td>13</td>\n",
       "      <td>365</td>\n",
       "    </tr>\n",
       "    <tr>\n",
       "      <th>Brooklyn</th>\n",
       "      <td>36473253</td>\n",
       "      <td>271336460</td>\n",
       "      <td>40.73470</td>\n",
       "      <td>-73.87077</td>\n",
       "      <td>725</td>\n",
       "      <td>100</td>\n",
       "      <td>236</td>\n",
       "      <td>6.54</td>\n",
       "      <td>34</td>\n",
       "      <td>365</td>\n",
       "    </tr>\n",
       "    <tr>\n",
       "      <th>Manhattan</th>\n",
       "      <td>36485609</td>\n",
       "      <td>272477673</td>\n",
       "      <td>40.86931</td>\n",
       "      <td>-73.91682</td>\n",
       "      <td>1000</td>\n",
       "      <td>999</td>\n",
       "      <td>229</td>\n",
       "      <td>10.77</td>\n",
       "      <td>28</td>\n",
       "      <td>365</td>\n",
       "    </tr>\n",
       "    <tr>\n",
       "      <th>Queens</th>\n",
       "      <td>36399640</td>\n",
       "      <td>271925782</td>\n",
       "      <td>40.77971</td>\n",
       "      <td>-73.71928</td>\n",
       "      <td>1800</td>\n",
       "      <td>62</td>\n",
       "      <td>454</td>\n",
       "      <td>10.60</td>\n",
       "      <td>18</td>\n",
       "      <td>365</td>\n",
       "    </tr>\n",
       "    <tr>\n",
       "      <th>Staten Island</th>\n",
       "      <td>36202006</td>\n",
       "      <td>158178970</td>\n",
       "      <td>40.63136</td>\n",
       "      <td>-74.07830</td>\n",
       "      <td>150</td>\n",
       "      <td>4</td>\n",
       "      <td>9</td>\n",
       "      <td>5.51</td>\n",
       "      <td>7</td>\n",
       "      <td>312</td>\n",
       "    </tr>\n",
       "  </tbody>\n",
       "</table>\n",
       "</div>"
      ],
      "text/plain": [
       "                                           id    host_id  latitude  longitude  \\\n",
       "room_type       neighbourhood_group                                             \n",
       "Entire home/apt Bronx                36442252  273841667  40.90527  -73.78414   \n",
       "                Brooklyn             36483152  273849259  40.73890  -73.85676   \n",
       "                Manhattan            36485431  274311461  40.87665  -73.90855   \n",
       "                Queens               36472710  274225617  40.79721  -73.71690   \n",
       "                Staten Island        36310353  271528362  40.64779  -74.06092   \n",
       "Private room    Bronx                36435986  273877318  40.91306  -73.78158   \n",
       "                Brooklyn             36485057  274307600  40.73861  -73.85899   \n",
       "                Manhattan            36487245  274321313  40.87663  -73.90982   \n",
       "                Queens               36484363  274040642  40.79511  -73.71299   \n",
       "                Staten Island        36438336  272557707  40.64579  -74.06208   \n",
       "Shared room     Bronx                36379669  272247972  40.89785  -73.82949   \n",
       "                Brooklyn             36473253  271336460  40.73470  -73.87077   \n",
       "                Manhattan            36485609  272477673  40.86931  -73.91682   \n",
       "                Queens               36399640  271925782  40.77971  -73.71928   \n",
       "                Staten Island        36202006  158178970  40.63136  -74.07830   \n",
       "\n",
       "                                     price  minimum_nights  number_of_reviews  \\\n",
       "room_type       neighbourhood_group                                             \n",
       "Entire home/apt Bronx                 1000             186                271   \n",
       "                Brooklyn             10000             500                488   \n",
       "                Manhattan            10000            1250                447   \n",
       "                Queens                2600             500                441   \n",
       "                Staten Island         5000             365                242   \n",
       "Private room    Bronx                 2500             365                321   \n",
       "                Brooklyn              7500             999                480   \n",
       "                Manhattan             9999             365                607   \n",
       "                Queens               10000             365                629   \n",
       "                Staten Island          300              33                333   \n",
       "Shared room     Bronx                  800              90                116   \n",
       "                Brooklyn               725             100                236   \n",
       "                Manhattan             1000             999                229   \n",
       "                Queens                1800              62                454   \n",
       "                Staten Island          150               4                  9   \n",
       "\n",
       "                                     reviews_per_month  \\\n",
       "room_type       neighbourhood_group                      \n",
       "Entire home/apt Bronx                            10.34   \n",
       "                Brooklyn                         13.33   \n",
       "                Manhattan                        14.00   \n",
       "                Queens                           15.78   \n",
       "                Staten Island                     9.10   \n",
       "Private room    Bronx                             8.37   \n",
       "                Brooklyn                         14.00   \n",
       "                Manhattan                        58.50   \n",
       "                Queens                           20.94   \n",
       "                Staten Island                    10.12   \n",
       "Shared room     Bronx                             6.82   \n",
       "                Brooklyn                          6.54   \n",
       "                Manhattan                        10.77   \n",
       "                Queens                           10.60   \n",
       "                Staten Island                     5.51   \n",
       "\n",
       "                                     calculated_host_listings_count  \\\n",
       "room_type       neighbourhood_group                                   \n",
       "Entire home/apt Bronx                                            13   \n",
       "                Brooklyn                                        232   \n",
       "                Manhattan                                       327   \n",
       "                Queens                                           15   \n",
       "                Staten Island                                     7   \n",
       "Private room    Bronx                                            37   \n",
       "                Brooklyn                                        103   \n",
       "                Manhattan                                       327   \n",
       "                Queens                                          103   \n",
       "                Staten Island                                     8   \n",
       "Shared room     Bronx                                            13   \n",
       "                Brooklyn                                         34   \n",
       "                Manhattan                                        28   \n",
       "                Queens                                           18   \n",
       "                Staten Island                                     7   \n",
       "\n",
       "                                     availability_365  \n",
       "room_type       neighbourhood_group                    \n",
       "Entire home/apt Bronx                             365  \n",
       "                Brooklyn                          365  \n",
       "                Manhattan                         365  \n",
       "                Queens                            365  \n",
       "                Staten Island                     365  \n",
       "Private room    Bronx                             365  \n",
       "                Brooklyn                          365  \n",
       "                Manhattan                         365  \n",
       "                Queens                            365  \n",
       "                Staten Island                     365  \n",
       "Shared room     Bronx                             365  \n",
       "                Brooklyn                          365  \n",
       "                Manhattan                         365  \n",
       "                Queens                            365  \n",
       "                Staten Island                     312  "
      ]
     },
     "execution_count": 15,
     "metadata": {},
     "output_type": "execute_result"
    }
   ],
   "source": [
    "#room type and neighbourhood_group based on price\n",
    "t= df.groupby(['room_type','neighbourhood_group']).max('price') \n",
    "t"
   ]
  },
  {
   "cell_type": "code",
   "execution_count": 16,
   "id": "7ab9dbf7",
   "metadata": {},
   "outputs": [],
   "source": [
    "#checking the outlier using boxplot"
   ]
  },
  {
   "cell_type": "code",
   "execution_count": 17,
   "id": "868fc023",
   "metadata": {
    "scrolled": true
   },
   "outputs": [
    {
     "data": {
      "image/png": "[encoded data removed]",
      "text/plain": [
       "<Figure size 1008x1800 with 10 Axes>"
      ]
     },
     "metadata": {
      "needs_background": "light"
     },
     "output_type": "display_data"
    }
   ],
   "source": [
    "plt.figure(figsize=(14,25))\n",
    "for i,j in zip(num,range(1,len(num)+1)):\n",
    "    plt.subplot(5,2,j)\n",
    "    sns.boxplot(df[i],color='red')\n",
    "plt.show()"
   ]
  },
  {
   "cell_type": "markdown",
   "id": "84d6bb19",
   "metadata": {},
   "source": [
    "we can see in the boxplot most of the outliers are in the dataset are presented in minimum_nights and price."
   ]
  },
  {
   "cell_type": "code",
   "execution_count": 18,
   "id": "37a3c3fe",
   "metadata": {},
   "outputs": [
    {
     "data": {
      "text/plain": [
       "id                                -0.090257\n",
       "host_id                            1.206214\n",
       "latitude                           0.237167\n",
       "longitude                          1.284210\n",
       "price                             19.118939\n",
       "minimum_nights                    21.827275\n",
       "number_of_reviews                  3.690635\n",
       "reviews_per_month                  3.511906\n",
       "calculated_host_listings_count     7.933174\n",
       "availability_365                   0.763408\n",
       "dtype: float64"
      ]
     },
     "execution_count": 18,
     "metadata": {},
     "output_type": "execute_result"
    }
   ],
   "source": [
    "#checking the skewness\n",
    "df[num].skew()"
   ]
  },
  {
   "cell_type": "markdown",
   "id": "b5983012",
   "metadata": {},
   "source": [
    "minimum_nights column is so skewed than any other, usual skewness value should be -1 to 1"
   ]
  },
  {
   "cell_type": "code",
   "execution_count": 19,
   "id": "7c97b10f",
   "metadata": {},
   "outputs": [
    {
     "data": {
      "text/html": [
       "<div>\n",
       "<style scoped>\n",
       "    .dataframe tbody tr th:only-of-type {\n",
       "        vertical-align: middle;\n",
       "    }\n",
       "\n",
       "    .dataframe tbody tr th {\n",
       "        vertical-align: top;\n",
       "    }\n",
       "\n",
       "    .dataframe thead th {\n",
       "        text-align: right;\n",
       "    }\n",
       "</style>\n",
       "<table border=\"1\" class=\"dataframe\">\n",
       "  <thead>\n",
       "    <tr style=\"text-align: right;\">\n",
       "      <th></th>\n",
       "      <th>id</th>\n",
       "      <th>host_id</th>\n",
       "      <th>neighbourhood_group</th>\n",
       "      <th>neighbourhood</th>\n",
       "      <th>latitude</th>\n",
       "      <th>longitude</th>\n",
       "      <th>room_type</th>\n",
       "      <th>price</th>\n",
       "      <th>minimum_nights</th>\n",
       "      <th>number_of_reviews</th>\n",
       "      <th>reviews_per_month</th>\n",
       "      <th>calculated_host_listings_count</th>\n",
       "      <th>availability_365</th>\n",
       "    </tr>\n",
       "  </thead>\n",
       "  <tbody>\n",
       "    <tr>\n",
       "      <th>1</th>\n",
       "      <td>2595</td>\n",
       "      <td>2845</td>\n",
       "      <td>Manhattan</td>\n",
       "      <td>Midtown</td>\n",
       "      <td>40.75362</td>\n",
       "      <td>-73.98377</td>\n",
       "      <td>Entire home/apt</td>\n",
       "      <td>225</td>\n",
       "      <td>1</td>\n",
       "      <td>45</td>\n",
       "      <td>0.380000</td>\n",
       "      <td>2</td>\n",
       "      <td>355</td>\n",
       "    </tr>\n",
       "    <tr>\n",
       "      <th>2</th>\n",
       "      <td>3647</td>\n",
       "      <td>4632</td>\n",
       "      <td>Manhattan</td>\n",
       "      <td>Harlem</td>\n",
       "      <td>40.80902</td>\n",
       "      <td>-73.94190</td>\n",
       "      <td>Private room</td>\n",
       "      <td>150</td>\n",
       "      <td>3</td>\n",
       "      <td>0</td>\n",
       "      <td>1.373221</td>\n",
       "      <td>1</td>\n",
       "      <td>365</td>\n",
       "    </tr>\n",
       "    <tr>\n",
       "      <th>4</th>\n",
       "      <td>5022</td>\n",
       "      <td>7192</td>\n",
       "      <td>Manhattan</td>\n",
       "      <td>East Harlem</td>\n",
       "      <td>40.79851</td>\n",
       "      <td>-73.94399</td>\n",
       "      <td>Entire home/apt</td>\n",
       "      <td>80</td>\n",
       "      <td>10</td>\n",
       "      <td>9</td>\n",
       "      <td>0.100000</td>\n",
       "      <td>1</td>\n",
       "      <td>0</td>\n",
       "    </tr>\n",
       "    <tr>\n",
       "      <th>10</th>\n",
       "      <td>5295</td>\n",
       "      <td>7702</td>\n",
       "      <td>Manhattan</td>\n",
       "      <td>Upper West Side</td>\n",
       "      <td>40.80316</td>\n",
       "      <td>-73.96545</td>\n",
       "      <td>Entire home/apt</td>\n",
       "      <td>135</td>\n",
       "      <td>5</td>\n",
       "      <td>53</td>\n",
       "      <td>0.430000</td>\n",
       "      <td>1</td>\n",
       "      <td>6</td>\n",
       "    </tr>\n",
       "    <tr>\n",
       "      <th>19</th>\n",
       "      <td>7750</td>\n",
       "      <td>17985</td>\n",
       "      <td>Manhattan</td>\n",
       "      <td>East Harlem</td>\n",
       "      <td>40.79685</td>\n",
       "      <td>-73.94872</td>\n",
       "      <td>Entire home/apt</td>\n",
       "      <td>190</td>\n",
       "      <td>7</td>\n",
       "      <td>0</td>\n",
       "      <td>1.373221</td>\n",
       "      <td>2</td>\n",
       "      <td>249</td>\n",
       "    </tr>\n",
       "  </tbody>\n",
       "</table>\n",
       "</div>"
      ],
      "text/plain": [
       "      id  host_id neighbourhood_group    neighbourhood  latitude  longitude  \\\n",
       "1   2595     2845           Manhattan          Midtown  40.75362  -73.98377   \n",
       "2   3647     4632           Manhattan           Harlem  40.80902  -73.94190   \n",
       "4   5022     7192           Manhattan      East Harlem  40.79851  -73.94399   \n",
       "10  5295     7702           Manhattan  Upper West Side  40.80316  -73.96545   \n",
       "19  7750    17985           Manhattan      East Harlem  40.79685  -73.94872   \n",
       "\n",
       "          room_type  price  minimum_nights  number_of_reviews  \\\n",
       "1   Entire home/apt    225               1                 45   \n",
       "2      Private room    150               3                  0   \n",
       "4   Entire home/apt     80              10                  9   \n",
       "10  Entire home/apt    135               5                 53   \n",
       "19  Entire home/apt    190               7                  0   \n",
       "\n",
       "    reviews_per_month  calculated_host_listings_count  availability_365  \n",
       "1            0.380000                               2               355  \n",
       "2            1.373221                               1               365  \n",
       "4            0.100000                               1                 0  \n",
       "10           0.430000                               1                 6  \n",
       "19           1.373221                               2               249  "
      ]
     },
     "execution_count": 19,
     "metadata": {},
     "output_type": "execute_result"
    }
   ],
   "source": [
    "#outlier detection using IQR\n",
    "Q1 = df.quantile(0.25)\n",
    "Q3 = df.quantile(0.75)\n",
    "IQR = Q3 - Q1\n",
    "df = df[~((df<(Q1-1.5*IQR)) | (df>(Q3+1.5*IQR))).any(axis=1)]\n",
    "df.head()"
   ]
  },
  {
   "cell_type": "markdown",
   "id": "52cc7dc8",
   "metadata": {},
   "source": [
    "The outliers are detected check the skew."
   ]
  },
  {
   "cell_type": "code",
   "execution_count": 20,
   "id": "91c67f5d",
   "metadata": {
    "scrolled": true
   },
   "outputs": [
    {
     "data": {
      "text/plain": [
       "calculated_host_listings_count    2.110815\n",
       "number_of_reviews                 1.789081\n",
       "availability_365                  1.700359\n",
       "host_id                           1.563883\n",
       "minimum_nights                    1.350530\n",
       "reviews_per_month                 0.997061\n",
       "price                             0.891539\n",
       "latitude                          0.400434\n",
       "longitude                         0.228587\n",
       "id                                0.008010\n",
       "dtype: float64"
      ]
     },
     "execution_count": 20,
     "metadata": {},
     "output_type": "execute_result"
    }
   ],
   "source": [
    "df.skew().sort_values(ascending=False)"
   ]
  },
  {
   "cell_type": "markdown",
   "id": "c433d915",
   "metadata": {},
   "source": [
    "Still the skewness is high in calculated_host_listing_count.In this case use normalization technique"
   ]
  },
  {
   "cell_type": "code",
   "execution_count": 21,
   "id": "91cb522a",
   "metadata": {},
   "outputs": [
    {
     "data": {
      "image/png": "[encoded data removed]",
      "text/plain": [
       "<Figure size 1008x1800 with 10 Axes>"
      ]
     },
     "metadata": {
      "needs_background": "light"
     },
     "output_type": "display_data"
    }
   ],
   "source": [
    " # kdeplot to check the normalization before removing the outliers\n",
    "\n",
    "plt.figure(figsize=(14,25))\n",
    "for i,j in zip(num,range(1,len(num)+1)):\n",
    "    plt.subplot(5,2,j)\n",
    "    sns.kdeplot(df[i],shade=True,color='darkblue')\n",
    "plt.show()\n"
   ]
  },
  {
   "cell_type": "code",
   "execution_count": 22,
   "id": "43d01182",
   "metadata": {},
   "outputs": [
    {
     "data": {
      "image/png": "[encoded data removed]",
      "text/plain": [
       "<Figure size 720x504 with 2 Axes>"
      ]
     },
     "metadata": {
      "needs_background": "light"
     },
     "output_type": "display_data"
    }
   ],
   "source": [
    "# Heatmap diagram\n",
    "plt.figure(figsize=(10,7))\n",
    "sns.heatmap(df.corr(),annot=True, cmap=\"Purples\")\n",
    "plt.show()\n"
   ]
  },
  {
   "cell_type": "markdown",
   "id": "0cb6dfc7",
   "metadata": {},
   "source": [
    "**Feature Engineering**"
   ]
  },
  {
   "cell_type": "code",
   "execution_count": 23,
   "id": "c7937461",
   "metadata": {},
   "outputs": [],
   "source": [
    "#Feature Encoding"
   ]
  },
  {
   "cell_type": "code",
   "execution_count": 24,
   "id": "3a83cb14",
   "metadata": {},
   "outputs": [
    {
     "data": {
      "text/html": [
       "<div>\n",
       "<style scoped>\n",
       "    .dataframe tbody tr th:only-of-type {\n",
       "        vertical-align: middle;\n",
       "    }\n",
       "\n",
       "    .dataframe tbody tr th {\n",
       "        vertical-align: top;\n",
       "    }\n",
       "\n",
       "    .dataframe thead th {\n",
       "        text-align: right;\n",
       "    }\n",
       "</style>\n",
       "<table border=\"1\" class=\"dataframe\">\n",
       "  <thead>\n",
       "    <tr style=\"text-align: right;\">\n",
       "      <th></th>\n",
       "      <th>neighbourhood_group</th>\n",
       "      <th>neighbourhood</th>\n",
       "      <th>room_type</th>\n",
       "    </tr>\n",
       "  </thead>\n",
       "  <tbody>\n",
       "    <tr>\n",
       "      <th>1</th>\n",
       "      <td>Manhattan</td>\n",
       "      <td>Midtown</td>\n",
       "      <td>Entire home/apt</td>\n",
       "    </tr>\n",
       "    <tr>\n",
       "      <th>2</th>\n",
       "      <td>Manhattan</td>\n",
       "      <td>Harlem</td>\n",
       "      <td>Private room</td>\n",
       "    </tr>\n",
       "    <tr>\n",
       "      <th>4</th>\n",
       "      <td>Manhattan</td>\n",
       "      <td>East Harlem</td>\n",
       "      <td>Entire home/apt</td>\n",
       "    </tr>\n",
       "    <tr>\n",
       "      <th>10</th>\n",
       "      <td>Manhattan</td>\n",
       "      <td>Upper West Side</td>\n",
       "      <td>Entire home/apt</td>\n",
       "    </tr>\n",
       "    <tr>\n",
       "      <th>19</th>\n",
       "      <td>Manhattan</td>\n",
       "      <td>East Harlem</td>\n",
       "      <td>Entire home/apt</td>\n",
       "    </tr>\n",
       "    <tr>\n",
       "      <th>...</th>\n",
       "      <td>...</td>\n",
       "      <td>...</td>\n",
       "      <td>...</td>\n",
       "    </tr>\n",
       "    <tr>\n",
       "      <th>48887</th>\n",
       "      <td>Brooklyn</td>\n",
       "      <td>Williamsburg</td>\n",
       "      <td>Entire home/apt</td>\n",
       "    </tr>\n",
       "    <tr>\n",
       "      <th>48890</th>\n",
       "      <td>Brooklyn</td>\n",
       "      <td>Bedford-Stuyvesant</td>\n",
       "      <td>Private room</td>\n",
       "    </tr>\n",
       "    <tr>\n",
       "      <th>48891</th>\n",
       "      <td>Brooklyn</td>\n",
       "      <td>Bushwick</td>\n",
       "      <td>Private room</td>\n",
       "    </tr>\n",
       "    <tr>\n",
       "      <th>48892</th>\n",
       "      <td>Manhattan</td>\n",
       "      <td>Harlem</td>\n",
       "      <td>Entire home/apt</td>\n",
       "    </tr>\n",
       "    <tr>\n",
       "      <th>48894</th>\n",
       "      <td>Manhattan</td>\n",
       "      <td>Hell's Kitchen</td>\n",
       "      <td>Private room</td>\n",
       "    </tr>\n",
       "  </tbody>\n",
       "</table>\n",
       "<p>27049 rows × 3 columns</p>\n",
       "</div>"
      ],
      "text/plain": [
       "      neighbourhood_group       neighbourhood        room_type\n",
       "1               Manhattan             Midtown  Entire home/apt\n",
       "2               Manhattan              Harlem     Private room\n",
       "4               Manhattan         East Harlem  Entire home/apt\n",
       "10              Manhattan     Upper West Side  Entire home/apt\n",
       "19              Manhattan         East Harlem  Entire home/apt\n",
       "...                   ...                 ...              ...\n",
       "48887            Brooklyn        Williamsburg  Entire home/apt\n",
       "48890            Brooklyn  Bedford-Stuyvesant     Private room\n",
       "48891            Brooklyn            Bushwick     Private room\n",
       "48892           Manhattan              Harlem  Entire home/apt\n",
       "48894           Manhattan      Hell's Kitchen     Private room\n",
       "\n",
       "[27049 rows x 3 columns]"
      ]
     },
     "execution_count": 24,
     "metadata": {},
     "output_type": "execute_result"
    }
   ],
   "source": [
    "from sklearn import preprocessing\n",
    "from sklearn.preprocessing import LabelEncoder\n",
    "le =preprocessing.LabelEncoder()\n",
    "df.select_dtypes(object)\n"
   ]
  },
  {
   "cell_type": "code",
   "execution_count": 25,
   "id": "7bdf68b5",
   "metadata": {},
   "outputs": [],
   "source": [
    "le = preprocessing.LabelEncoder()\n",
    "le.fit(df['neighbourhood_group'])    \n",
    "df['neighbourhood_group']=le.transform(df['neighbourhood_group'])\n",
    "\n",
    "le = preprocessing.LabelEncoder()\n",
    "le.fit(df['neighbourhood'])\n",
    "df['neighbourhood']=le.transform(df['neighbourhood'])\n",
    "\n",
    "le = preprocessing.LabelEncoder()\n",
    "le.fit(df['room_type'])\n",
    "df['room_type']=le.transform(df['room_type'])\n"
   ]
  },
  {
   "cell_type": "code",
   "execution_count": 26,
   "id": "7a0e4b2a",
   "metadata": {},
   "outputs": [
    {
     "data": {
      "text/html": [
       "<div>\n",
       "<style scoped>\n",
       "    .dataframe tbody tr th:only-of-type {\n",
       "        vertical-align: middle;\n",
       "    }\n",
       "\n",
       "    .dataframe tbody tr th {\n",
       "        vertical-align: top;\n",
       "    }\n",
       "\n",
       "    .dataframe thead th {\n",
       "        text-align: right;\n",
       "    }\n",
       "</style>\n",
       "<table border=\"1\" class=\"dataframe\">\n",
       "  <thead>\n",
       "    <tr style=\"text-align: right;\">\n",
       "      <th></th>\n",
       "      <th>id</th>\n",
       "      <th>host_id</th>\n",
       "      <th>neighbourhood_group</th>\n",
       "      <th>neighbourhood</th>\n",
       "      <th>latitude</th>\n",
       "      <th>longitude</th>\n",
       "      <th>room_type</th>\n",
       "      <th>price</th>\n",
       "      <th>minimum_nights</th>\n",
       "      <th>number_of_reviews</th>\n",
       "      <th>reviews_per_month</th>\n",
       "      <th>calculated_host_listings_count</th>\n",
       "      <th>availability_365</th>\n",
       "    </tr>\n",
       "  </thead>\n",
       "  <tbody>\n",
       "    <tr>\n",
       "      <th>1</th>\n",
       "      <td>2595</td>\n",
       "      <td>2845</td>\n",
       "      <td>2</td>\n",
       "      <td>73</td>\n",
       "      <td>40.75362</td>\n",
       "      <td>-73.98377</td>\n",
       "      <td>0</td>\n",
       "      <td>225</td>\n",
       "      <td>1</td>\n",
       "      <td>45</td>\n",
       "      <td>0.380000</td>\n",
       "      <td>2</td>\n",
       "      <td>355</td>\n",
       "    </tr>\n",
       "    <tr>\n",
       "      <th>2</th>\n",
       "      <td>3647</td>\n",
       "      <td>4632</td>\n",
       "      <td>2</td>\n",
       "      <td>56</td>\n",
       "      <td>40.80902</td>\n",
       "      <td>-73.94190</td>\n",
       "      <td>1</td>\n",
       "      <td>150</td>\n",
       "      <td>3</td>\n",
       "      <td>0</td>\n",
       "      <td>1.373221</td>\n",
       "      <td>1</td>\n",
       "      <td>365</td>\n",
       "    </tr>\n",
       "    <tr>\n",
       "      <th>4</th>\n",
       "      <td>5022</td>\n",
       "      <td>7192</td>\n",
       "      <td>2</td>\n",
       "      <td>38</td>\n",
       "      <td>40.79851</td>\n",
       "      <td>-73.94399</td>\n",
       "      <td>0</td>\n",
       "      <td>80</td>\n",
       "      <td>10</td>\n",
       "      <td>9</td>\n",
       "      <td>0.100000</td>\n",
       "      <td>1</td>\n",
       "      <td>0</td>\n",
       "    </tr>\n",
       "    <tr>\n",
       "      <th>10</th>\n",
       "      <td>5295</td>\n",
       "      <td>7702</td>\n",
       "      <td>2</td>\n",
       "      <td>109</td>\n",
       "      <td>40.80316</td>\n",
       "      <td>-73.96545</td>\n",
       "      <td>0</td>\n",
       "      <td>135</td>\n",
       "      <td>5</td>\n",
       "      <td>53</td>\n",
       "      <td>0.430000</td>\n",
       "      <td>1</td>\n",
       "      <td>6</td>\n",
       "    </tr>\n",
       "    <tr>\n",
       "      <th>19</th>\n",
       "      <td>7750</td>\n",
       "      <td>17985</td>\n",
       "      <td>2</td>\n",
       "      <td>38</td>\n",
       "      <td>40.79685</td>\n",
       "      <td>-73.94872</td>\n",
       "      <td>0</td>\n",
       "      <td>190</td>\n",
       "      <td>7</td>\n",
       "      <td>0</td>\n",
       "      <td>1.373221</td>\n",
       "      <td>2</td>\n",
       "      <td>249</td>\n",
       "    </tr>\n",
       "  </tbody>\n",
       "</table>\n",
       "</div>"
      ],
      "text/plain": [
       "      id  host_id  neighbourhood_group  neighbourhood  latitude  longitude  \\\n",
       "1   2595     2845                    2             73  40.75362  -73.98377   \n",
       "2   3647     4632                    2             56  40.80902  -73.94190   \n",
       "4   5022     7192                    2             38  40.79851  -73.94399   \n",
       "10  5295     7702                    2            109  40.80316  -73.96545   \n",
       "19  7750    17985                    2             38  40.79685  -73.94872   \n",
       "\n",
       "    room_type  price  minimum_nights  number_of_reviews  reviews_per_month  \\\n",
       "1           0    225               1                 45           0.380000   \n",
       "2           1    150               3                  0           1.373221   \n",
       "4           0     80              10                  9           0.100000   \n",
       "10          0    135               5                 53           0.430000   \n",
       "19          0    190               7                  0           1.373221   \n",
       "\n",
       "    calculated_host_listings_count  availability_365  \n",
       "1                                2               355  \n",
       "2                                1               365  \n",
       "4                                1                 0  \n",
       "10                               1                 6  \n",
       "19                               2               249  "
      ]
     },
     "execution_count": 26,
     "metadata": {},
     "output_type": "execute_result"
    }
   ],
   "source": [
    "df.head()"
   ]
  },
  {
   "cell_type": "code",
   "execution_count": 27,
   "id": "85889640",
   "metadata": {},
   "outputs": [],
   "source": [
    "x = df.drop('room_type',1)\n",
    "y = df['room_type']"
   ]
  },
  {
   "cell_type": "code",
   "execution_count": 28,
   "id": "1a1c4213",
   "metadata": {},
   "outputs": [],
   "source": [
    "from sklearn.model_selection import train_test_split"
   ]
  },
  {
   "cell_type": "code",
   "execution_count": 29,
   "id": "e1656ac9",
   "metadata": {},
   "outputs": [],
   "source": [
    "xtrain, xtest, ytrain, ytest = train_test_split(x,y,test_size=0.3,random_state=42)"
   ]
  },
  {
   "cell_type": "code",
   "execution_count": 30,
   "id": "780b90d8",
   "metadata": {},
   "outputs": [],
   "source": [
    "#normalization technique"
   ]
  },
  {
   "cell_type": "code",
   "execution_count": 31,
   "id": "3f0f9dd5",
   "metadata": {},
   "outputs": [],
   "source": [
    "from sklearn.preprocessing import MinMaxScaler\n",
    "# fit scaler on training data\n",
    "norm = MinMaxScaler().fit(xtrain)\n",
    "# transform training data\n",
    "X_train_norm = norm.transform(xtrain)\n",
    "# transform testing data\n",
    "X_test_norm = norm.transform(xtest)\n"
   ]
  },
  {
   "cell_type": "code",
   "execution_count": 32,
   "id": "39e1fdca",
   "metadata": {},
   "outputs": [],
   "source": [
    "from sklearn.linear_model import LogisticRegression\n",
    "from sklearn.tree import DecisionTreeClassifier\n",
    "from sklearn.ensemble import RandomForestClassifier\n",
    "from sklearn.neighbors import KNeighborsClassifier\n",
    "from sklearn.naive_bayes import GaussianNB\n",
    "from sklearn.linear_model import SGDClassifier\n",
    "from sklearn.metrics import confusion_matrix\n",
    "from sklearn.metrics import accuracy_score\n",
    "from sklearn.metrics import classification_report\n"
   ]
  },
  {
   "cell_type": "code",
   "execution_count": 33,
   "id": "ba38e26b",
   "metadata": {},
   "outputs": [],
   "source": [
    "lr = LogisticRegression()\n",
    "dt = DecisionTreeClassifier()\n",
    "rn = RandomForestClassifier()\n",
    "knn = KNeighborsClassifier()\n",
    "gb = GaussianNB()\n",
    "sgd = SGDClassifier()\n"
   ]
  },
  {
   "cell_type": "code",
   "execution_count": 34,
   "id": "da17cf3c",
   "metadata": {},
   "outputs": [],
   "source": [
    "#logistic regression classifier"
   ]
  },
  {
   "cell_type": "code",
   "execution_count": 35,
   "id": "654e371e",
   "metadata": {},
   "outputs": [
    {
     "data": {
      "text/plain": [
       "0.8240295748613679"
      ]
     },
     "execution_count": 35,
     "metadata": {},
     "output_type": "execute_result"
    }
   ],
   "source": [
    "lr.fit(X_train_norm,ytrain)\n",
    "lr.predict(X_test_norm)\n",
    "lr.score(X_test_norm,ytest)"
   ]
  },
  {
   "cell_type": "code",
   "execution_count": 37,
   "id": "d3f97545",
   "metadata": {},
   "outputs": [
    {
     "data": {
      "text/plain": [
       "0.8240295748613679"
      ]
     },
     "execution_count": 37,
     "metadata": {},
     "output_type": "execute_result"
    }
   ],
   "source": [
    "lr.fit(X_train_norm,ytrain)\n",
    "ypred = lr.predict(X_test_norm)\n",
    "accuracy_score(ypred,ytest)\n"
   ]
  },
  {
   "cell_type": "code",
   "execution_count": 38,
   "id": "f4516203",
   "metadata": {},
   "outputs": [
    {
     "name": "stdout",
     "output_type": "stream",
     "text": [
      "classification report: \n",
      "               precision    recall  f1-score   support\n",
      "\n",
      "           0       0.86      0.81      0.84      4110\n",
      "           1       0.79      0.87      0.83      3864\n",
      "           2       0.00      0.00      0.00       141\n",
      "\n",
      "    accuracy                           0.82      8115\n",
      "   macro avg       0.55      0.56      0.55      8115\n",
      "weighted avg       0.81      0.82      0.82      8115\n",
      "\n"
     ]
    }
   ],
   "source": [
    "print('classification report: \\n',classification_report(ytest,ypred))\n"
   ]
  },
  {
   "cell_type": "code",
   "execution_count": 39,
   "id": "7e1a384c",
   "metadata": {},
   "outputs": [],
   "source": [
    "# decision tree classifier"
   ]
  },
  {
   "cell_type": "code",
   "execution_count": 40,
   "id": "b376e434",
   "metadata": {},
   "outputs": [
    {
     "data": {
      "text/plain": [
       "0.7572396796056685"
      ]
     },
     "execution_count": 40,
     "metadata": {},
     "output_type": "execute_result"
    }
   ],
   "source": [
    "dt.fit(X_train_norm,ytrain)\n",
    "dt.predict(X_test_norm)\n",
    "dt.score(X_test_norm,ytest)\n"
   ]
  },
  {
   "cell_type": "code",
   "execution_count": 41,
   "id": "33a2c828",
   "metadata": {},
   "outputs": [
    {
     "data": {
      "text/plain": [
       "0.7576093653727665"
      ]
     },
     "execution_count": 41,
     "metadata": {},
     "output_type": "execute_result"
    }
   ],
   "source": [
    "dt.fit(X_train_norm,ytrain)\n",
    "ypred = dt.predict(X_test_norm)\n",
    "accuracy_score(ypred,ytest)\n"
   ]
  },
  {
   "cell_type": "code",
   "execution_count": 42,
   "id": "4578abf1",
   "metadata": {},
   "outputs": [
    {
     "name": "stdout",
     "output_type": "stream",
     "text": [
      "classification report: \n",
      "               precision    recall  f1-score   support\n",
      "\n",
      "           0       0.80      0.77      0.78      4110\n",
      "           1       0.75      0.76      0.76      3864\n",
      "           2       0.12      0.15      0.13       141\n",
      "\n",
      "    accuracy                           0.76      8115\n",
      "   macro avg       0.55      0.56      0.56      8115\n",
      "weighted avg       0.76      0.76      0.76      8115\n",
      "\n"
     ]
    }
   ],
   "source": [
    "print('classification report: \\n',classification_report(ytest,ypred))\n"
   ]
  },
  {
   "cell_type": "code",
   "execution_count": 43,
   "id": "8911028b",
   "metadata": {},
   "outputs": [],
   "source": [
    "#random forest classifier"
   ]
  },
  {
   "cell_type": "code",
   "execution_count": 44,
   "id": "a988becb",
   "metadata": {},
   "outputs": [
    {
     "data": {
      "text/plain": [
       "0.8431300061614294"
      ]
     },
     "execution_count": 44,
     "metadata": {},
     "output_type": "execute_result"
    }
   ],
   "source": [
    "rn.fit(X_train_norm,ytrain)\n",
    "rn.predict(X_test_norm)\n",
    "rn.score(X_test_norm,ytest)\n"
   ]
  },
  {
   "cell_type": "code",
   "execution_count": 45,
   "id": "dc49e947",
   "metadata": {},
   "outputs": [
    {
     "data": {
      "text/plain": [
       "0.840788662969809"
      ]
     },
     "execution_count": 45,
     "metadata": {},
     "output_type": "execute_result"
    }
   ],
   "source": [
    "rn.fit(X_train_norm,ytrain)\n",
    "ypred = rn.predict(X_test_norm)\n",
    "accuracy_score(ypred,ytest)\n"
   ]
  },
  {
   "cell_type": "code",
   "execution_count": 46,
   "id": "60031714",
   "metadata": {},
   "outputs": [
    {
     "name": "stdout",
     "output_type": "stream",
     "text": [
      "classification report: \n",
      "               precision    recall  f1-score   support\n",
      "\n",
      "           0       0.85      0.87      0.86      4110\n",
      "           1       0.83      0.84      0.84      3864\n",
      "           2       0.91      0.07      0.13       141\n",
      "\n",
      "    accuracy                           0.84      8115\n",
      "   macro avg       0.86      0.59      0.61      8115\n",
      "weighted avg       0.84      0.84      0.83      8115\n",
      "\n"
     ]
    }
   ],
   "source": [
    "print('classification report: \\n',classification_report(ytest,ypred))"
   ]
  },
  {
   "cell_type": "code",
   "execution_count": 47,
   "id": "40efddb8",
   "metadata": {},
   "outputs": [],
   "source": [
    "# K Nearest Neighbor"
   ]
  },
  {
   "cell_type": "code",
   "execution_count": 48,
   "id": "189400df",
   "metadata": {},
   "outputs": [
    {
     "data": {
      "text/plain": [
       "0.7757239679605669"
      ]
     },
     "execution_count": 48,
     "metadata": {},
     "output_type": "execute_result"
    }
   ],
   "source": [
    "knn.fit(X_train_norm,ytrain)\n",
    "knn.predict(X_test_norm)\n",
    "knn.score(X_test_norm,ytest)\n"
   ]
  },
  {
   "cell_type": "code",
   "execution_count": 49,
   "id": "10548e6d",
   "metadata": {},
   "outputs": [
    {
     "data": {
      "text/plain": [
       "0.7757239679605669"
      ]
     },
     "execution_count": 49,
     "metadata": {},
     "output_type": "execute_result"
    }
   ],
   "source": [
    "knn.fit(X_train_norm,ytrain)\n",
    "ypred = knn.predict(X_test_norm)\n",
    "accuracy_score(ypred,ytest)\n"
   ]
  },
  {
   "cell_type": "code",
   "execution_count": 50,
   "id": "0626b57b",
   "metadata": {},
   "outputs": [
    {
     "name": "stdout",
     "output_type": "stream",
     "text": [
      "classification report: \n",
      "               precision    recall  f1-score   support\n",
      "\n",
      "           0       0.80      0.79      0.79      4110\n",
      "           1       0.75      0.79      0.77      3864\n",
      "           2       0.50      0.02      0.04       141\n",
      "\n",
      "    accuracy                           0.78      8115\n",
      "   macro avg       0.68      0.53      0.54      8115\n",
      "weighted avg       0.77      0.78      0.77      8115\n",
      "\n"
     ]
    }
   ],
   "source": [
    "print('classification report: \\n',classification_report(ytest,ypred))"
   ]
  },
  {
   "cell_type": "code",
   "execution_count": 51,
   "id": "9510bb9f",
   "metadata": {},
   "outputs": [],
   "source": [
    "#Gaussian Naive Bayes "
   ]
  },
  {
   "cell_type": "code",
   "execution_count": 52,
   "id": "7c3d28ea",
   "metadata": {},
   "outputs": [
    {
     "data": {
      "text/plain": [
       "0.7626617375231054"
      ]
     },
     "execution_count": 52,
     "metadata": {},
     "output_type": "execute_result"
    }
   ],
   "source": [
    "gb.fit(X_train_norm,ytrain)\n",
    "gb.predict(X_test_norm)\n",
    "gb.score(X_test_norm,ytest)\n"
   ]
  },
  {
   "cell_type": "code",
   "execution_count": 53,
   "id": "7c8499b5",
   "metadata": {},
   "outputs": [
    {
     "data": {
      "text/plain": [
       "0.7626617375231054"
      ]
     },
     "execution_count": 53,
     "metadata": {},
     "output_type": "execute_result"
    }
   ],
   "source": [
    "gb.fit(X_train_norm,ytrain)\n",
    "ypred = gb.predict(X_test_norm)\n",
    "accuracy_score(ypred,ytest)\n"
   ]
  },
  {
   "cell_type": "code",
   "execution_count": 54,
   "id": "85b6fe79",
   "metadata": {},
   "outputs": [
    {
     "name": "stdout",
     "output_type": "stream",
     "text": [
      "classification report: \n",
      "               precision    recall  f1-score   support\n",
      "\n",
      "           0       0.81      0.75      0.78      4110\n",
      "           1       0.73      0.81      0.77      3864\n",
      "           2       0.13      0.05      0.07       141\n",
      "\n",
      "    accuracy                           0.76      8115\n",
      "   macro avg       0.56      0.53      0.54      8115\n",
      "weighted avg       0.76      0.76      0.76      8115\n",
      "\n"
     ]
    }
   ],
   "source": [
    "print('classification report: \\n',classification_report(ytest,ypred))"
   ]
  },
  {
   "cell_type": "code",
   "execution_count": 55,
   "id": "2f9521f6",
   "metadata": {},
   "outputs": [],
   "source": [
    "#Stochastic Gradient Descent"
   ]
  },
  {
   "cell_type": "code",
   "execution_count": 56,
   "id": "8ea83304",
   "metadata": {},
   "outputs": [
    {
     "data": {
      "text/plain": [
       "0.825754775107825"
      ]
     },
     "execution_count": 56,
     "metadata": {},
     "output_type": "execute_result"
    }
   ],
   "source": [
    "sgd.fit(X_train_norm,ytrain)\n",
    "sgd.predict(X_test_norm)\n",
    "sgd.score(X_test_norm,ytest)\n"
   ]
  },
  {
   "cell_type": "code",
   "execution_count": 57,
   "id": "384f6189",
   "metadata": {},
   "outputs": [
    {
     "data": {
      "text/plain": [
       "0.8251386321626617"
      ]
     },
     "execution_count": 57,
     "metadata": {},
     "output_type": "execute_result"
    }
   ],
   "source": [
    "sgd.fit(X_train_norm,ytrain)\n",
    "ypred = sgd.predict(X_test_norm)\n",
    "accuracy_score(ypred,ytest)\n"
   ]
  },
  {
   "cell_type": "code",
   "execution_count": 58,
   "id": "af5dc0e9",
   "metadata": {},
   "outputs": [
    {
     "name": "stdout",
     "output_type": "stream",
     "text": [
      "classification report: \n",
      "               precision    recall  f1-score   support\n",
      "\n",
      "           0       0.86      0.82      0.84      4110\n",
      "           1       0.79      0.86      0.83      3864\n",
      "           2       0.00      0.00      0.00       141\n",
      "\n",
      "    accuracy                           0.83      8115\n",
      "   macro avg       0.55      0.56      0.55      8115\n",
      "weighted avg       0.81      0.83      0.82      8115\n",
      "\n"
     ]
    }
   ],
   "source": [
    "print('classification report: \\n',classification_report(ytest,ypred))"
   ]
  },
  {
   "cell_type": "code",
   "execution_count": 59,
   "id": "d7d2baf7",
   "metadata": {},
   "outputs": [],
   "source": [
    "# All alogrithums in classification model that are used above\n"
   ]
  },
  {
   "cell_type": "code",
   "execution_count": 62,
   "id": "17ea2b08",
   "metadata": {},
   "outputs": [
    {
     "name": "stdout",
     "output_type": "stream",
     "text": [
      "LogisticRegression()\n",
      "accuracy: 0.8240295748613679\n",
      "*****************************\n",
      "RandomForestClassifier()\n",
      "accuracy: 0.841158348736907\n",
      "*****************************\n",
      "DecisionTreeClassifier()\n",
      "accuracy: 0.7594577942082563\n",
      "*****************************\n",
      "KNeighborsClassifier()\n",
      "accuracy: 0.7757239679605669\n",
      "*****************************\n",
      "GaussianNB()\n",
      "accuracy: 0.7626617375231054\n",
      "*****************************\n",
      "SGDClassifier()\n",
      "accuracy: 0.8242760320394331\n"
     ]
    }
   ],
   "source": [
    "li = [lr,rn,dt,knn,gb,sgd]                   \n",
    "for i in li: \n",
    "    print(i)\n",
    "    i.fit(X_train_norm,ytrain)\n",
    "    i.predict(xtest)\n",
    "    print('accuracy:',i.score(X_test_norm,ytest))\n",
    "    if i==sgd:\n",
    "        continue\n",
    "    print('*'*29)\n"
   ]
  },
  {
   "cell_type": "code",
   "execution_count": 65,
   "id": "8e37fa9e",
   "metadata": {},
   "outputs": [
    {
     "name": "stdout",
     "output_type": "stream",
     "text": [
      "LogisticRegression() : 0.8240295748613679 \n",
      "\n",
      "Classification report: \n",
      "               precision    recall  f1-score   support\n",
      "\n",
      "           0       0.86      0.81      0.84      4110\n",
      "           1       0.79      0.87      0.83      3864\n",
      "           2       0.00      0.00      0.00       141\n",
      "\n",
      "    accuracy                           0.82      8115\n",
      "   macro avg       0.55      0.56      0.55      8115\n",
      "weighted avg       0.81      0.82      0.82      8115\n",
      "\n",
      "*******************************************************\n",
      "RandomForestClassifier() : 0.8441158348736907 \n",
      "\n",
      "Classification report: \n",
      "               precision    recall  f1-score   support\n",
      "\n",
      "           0       0.85      0.87      0.86      4110\n",
      "           1       0.84      0.84      0.84      3864\n",
      "           2       0.90      0.06      0.12       141\n",
      "\n",
      "    accuracy                           0.84      8115\n",
      "   macro avg       0.86      0.59      0.61      8115\n",
      "weighted avg       0.84      0.84      0.84      8115\n",
      "\n",
      "*******************************************************\n",
      "DecisionTreeClassifier() : 0.7550215650030807 \n",
      "\n",
      "Classification report: \n",
      "               precision    recall  f1-score   support\n",
      "\n",
      "           0       0.79      0.77      0.78      4110\n",
      "           1       0.74      0.76      0.75      3864\n",
      "           2       0.13      0.15      0.14       141\n",
      "\n",
      "    accuracy                           0.76      8115\n",
      "   macro avg       0.55      0.56      0.56      8115\n",
      "weighted avg       0.76      0.76      0.76      8115\n",
      "\n",
      "*******************************************************\n",
      "KNeighborsClassifier() : 0.7757239679605669 \n",
      "\n",
      "Classification report: \n",
      "               precision    recall  f1-score   support\n",
      "\n",
      "           0       0.80      0.79      0.79      4110\n",
      "           1       0.75      0.79      0.77      3864\n",
      "           2       0.50      0.02      0.04       141\n",
      "\n",
      "    accuracy                           0.78      8115\n",
      "   macro avg       0.68      0.53      0.54      8115\n",
      "weighted avg       0.77      0.78      0.77      8115\n",
      "\n",
      "*******************************************************\n",
      "GaussianNB() : 0.7626617375231054 \n",
      "\n",
      "Classification report: \n",
      "               precision    recall  f1-score   support\n",
      "\n",
      "           0       0.81      0.75      0.78      4110\n",
      "           1       0.73      0.81      0.77      3864\n",
      "           2       0.13      0.05      0.07       141\n",
      "\n",
      "    accuracy                           0.76      8115\n",
      "   macro avg       0.56      0.53      0.54      8115\n",
      "weighted avg       0.76      0.76      0.76      8115\n",
      "\n",
      "*******************************************************\n",
      "SGDClassifier() : 0.8124460874922982 \n",
      "\n",
      "Classification report: \n",
      "               precision    recall  f1-score   support\n",
      "\n",
      "           0       0.88      0.76      0.82      4110\n",
      "           1       0.76      0.89      0.82      3864\n",
      "           2       0.00      0.00      0.00       141\n",
      "\n",
      "    accuracy                           0.81      8115\n",
      "   macro avg       0.55      0.55      0.55      8115\n",
      "weighted avg       0.81      0.81      0.81      8115\n",
      "\n"
     ]
    }
   ],
   "source": [
    "li = [lr,rn,dt,knn,gb,sgd]                         \n",
    "di = {}\n",
    "for i in li:\n",
    "    i.fit(X_train_norm,ytrain)\n",
    "    ypred = i.predict(X_test_norm)\n",
    "    print(i,\":\",accuracy_score(ypred,ytest),'\\n')\n",
    "    di.update({str(i):i.score(X_test_norm,ytest)})\n",
    "    print('Classification report: \\n',classification_report(ytest,ypred))\n",
    "    if i==sgd:\n",
    "        continue\n",
    "    print('*'*55)\n"
   ]
  },
  {
   "cell_type": "code",
   "execution_count": 66,
   "id": "e15ca18d",
   "metadata": {},
   "outputs": [],
   "source": [
    "# I have also created a plot for reference based on prediction value and algorithms used above\n"
   ]
  },
  {
   "cell_type": "code",
   "execution_count": 70,
   "id": "5d4c7ba9",
   "metadata": {},
   "outputs": [
    {
     "data": {
      "image/png": "[encoded data removed]",
      "text/plain": [
       "<Figure size 1224x504 with 1 Axes>"
      ]
     },
     "metadata": {
      "needs_background": "light"
     },
     "output_type": "display_data"
    }
   ],
   "source": [
    "plt.figure(figsize=(17, 7))\n",
    "plt.title(\"Algorithm vs Accuracy\", fontweight='bold')\n",
    "plt.xlabel(\"Algorithm\",)\n",
    "plt.ylabel(\"Accuracy\")\n",
    "plt.plot(di.keys(),di.values(),marker='o',color='plum',linewidth=3,markersize=8,\n",
    "         markerfacecolor='slategray',markeredgecolor='slategray')\n",
    "plt.show()"
   ]
  },
  {
   "cell_type": "markdown",
   "id": "c68830f2",
   "metadata": {},
   "source": [
    "As we can see from above graph the base ML algorithm(Decision Tree) accuracy is 75% and highest ML alogrithm (Random forest) accuracy is 84%"
   ]
  }
 ],
 "metadata": {
  "kernelspec": {
   "display_name": "Python 3",
   "language": "python",
   "name": "python3"
  }
 },
 "nbformat": 4,
 "nbformat_minor": 5
}
